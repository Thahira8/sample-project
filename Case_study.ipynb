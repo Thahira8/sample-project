{
  "nbformat": 4,
  "nbformat_minor": 0,
  "metadata": {
    "colab": {
      "provenance": [],
      "authorship_tag": "ABX9TyNfOMo+ul1104PnhMes5hU5",
      "include_colab_link": true
    },
    "kernelspec": {
      "name": "python3",
      "display_name": "Python 3"
    },
    "language_info": {
      "name": "python"
    }
  },
  "cells": [
    {
      "cell_type": "markdown",
      "metadata": {
        "id": "view-in-github",
        "colab_type": "text"
      },
      "source": [
        "<a href=\"https://colab.research.google.com/github/Thahira8/sample-project/blob/main/Case_study.ipynb\" target=\"_parent\"><img src=\"https://colab.research.google.com/assets/colab-badge.svg\" alt=\"Open In Colab\"/></a>"
      ]
    },
    {
      "cell_type": "code",
      "execution_count": 20,
      "metadata": {
        "colab": {
          "base_uri": "https://localhost:8080/"
        },
        "id": "vOwtz7EeTv36",
        "outputId": "478fc2a6-f1da-4bed-8fb5-27c8d8f6c033"
      },
      "outputs": [
        {
          "output_type": "stream",
          "name": "stdout",
          "text": [
            "(5, 1)\n",
            "minimum: 1\n",
            "maximum: 5\n"
          ]
        }
      ],
      "source": [
        "#Q1\n",
        "def find_range(numbers):\n",
        "  return max(numbers), min(numbers)\n",
        "numbers=([1,2,3,4,5])\n",
        "print(find_range(numbers))\n",
        "print(\"minimum:\",min(numbers))\n",
        "print(\"maximum:\",max(numbers))"
      ]
    },
    {
      "cell_type": "code",
      "source": [
        "#Q2\n",
        "def find_mean(numbers):\n",
        "  return sum(numbers)/len(numbers)\n",
        "numbers=([12,15,18,20,22])\n",
        "print(find_mean(numbers))"
      ],
      "metadata": {
        "colab": {
          "base_uri": "https://localhost:8080/"
        },
        "id": "mU9MpNAfVA5c",
        "outputId": "a2334c9e-968d-4d14-db98-f58f6b8628c7"
      },
      "execution_count": 25,
      "outputs": [
        {
          "output_type": "stream",
          "name": "stdout",
          "text": [
            "17.4\n"
          ]
        }
      ]
    },
    {
      "cell_type": "code",
      "source": [
        "#Q3\n",
        "def find_median(numbers):\n",
        "  numbers.sort()\n",
        "  n=len(numbers)\n",
        "  if n%2==0:\n",
        "    median=(numbers[n//2-1]+numbers[n//2])/2\n",
        "  else:\n",
        "    median=numbers[n//2]\n",
        "  return median\n",
        "numbers=([10,25,38,46,35])\n",
        "print(find_median(numbers))\n"
      ],
      "metadata": {
        "colab": {
          "base_uri": "https://localhost:8080/"
        },
        "id": "x_Q7Fq6HbuFZ",
        "outputId": "74cc260e-baac-40db-fe0d-34fee448c63f"
      },
      "execution_count": 34,
      "outputs": [
        {
          "output_type": "stream",
          "name": "stdout",
          "text": [
            "35\n"
          ]
        }
      ]
    },
    {
      "cell_type": "code",
      "source": [
        "#Q4\n",
        "def find_mode(numbers):\n",
        "  numbers=sorted(numbers)\n",
        "  n=len(numbers)\n",
        "  mid=n//2\n",
        "  if n%2==0:\n",
        "    return(numbers[mid-1]+numbers[mid])/2\n",
        "  else:\n",
        "    mode=numbers[mid]\n",
        "  x=[numbers=([10,25,38,46,35])"
      ],
      "metadata": {
        "id": "yjXqHkN6c_GH"
      },
      "execution_count": 58,
      "outputs": []
    },
    {
      "cell_type": "code",
      "source": [
        "#Q5\n",
        "def percentile_value(P):\n",
        "    x=sorted(P)\n",
        "    n=len(x)\n",
        "    perc =90/ 100*(n-1)\n",
        "    y= int(perc)\n",
        "    fraction = perc - y\n",
        "    if y+ 1<n:\n",
        "      m = x[y]+fraction*(x[y+1]-x[y])\n",
        "\n",
        "    return perc, y, m\n",
        "\n",
        "x=[10,20,30,40,50]\n",
        "perc,y,m=percentile_value(x)\n",
        "print(\"percentile position (float):\",perc)\n",
        "print(\"lower index used:\",y)\n",
        "print(\"interpolated 90th percentile value:\",m)\n",
        ""
      ],
      "metadata": {
        "colab": {
          "base_uri": "https://localhost:8080/"
        },
        "id": "zmNEPSehhQ9n",
        "outputId": "70d9f240-5431-4bb7-aa28-acf2c94e37e0"
      },
      "execution_count": 91,
      "outputs": [
        {
          "output_type": "stream",
          "name": "stdout",
          "text": [
            "percentile position (float): 3.6\n",
            "lower index used: 3\n",
            "interpolated 90th percentile value: 46.0\n"
          ]
        }
      ]
    },
    {
      "cell_type": "code",
      "source": [
        "#Q6\n",
        "def calculate_lower_bound(numbers):\n",
        "    return min(numbers)\n",
        "numbers = [12,15,18,20,22,25,30,35,40,45]\n",
        "lower_bound = calculate_lower_bound(numbers)\n",
        "print(f\"Lower Bound: {lower_bound}\")"
      ],
      "metadata": {
        "colab": {
          "base_uri": "https://localhost:8080/"
        },
        "id": "j1nR63yHr7_I",
        "outputId": "851cd84b-c74e-419a-93d3-30fbec8dc2f2"
      },
      "execution_count": 74,
      "outputs": [
        {
          "output_type": "stream",
          "name": "stdout",
          "text": [
            "Lower Bound: 12\n"
          ]
        }
      ]
    },
    {
      "cell_type": "code",
      "source": [
        "#Q7\n",
        "import numpy as np\n",
        "\n",
        "def find_outliers(numbers):\n",
        "    q1 =np.percentile(numbers, 25)\n",
        "    q3 = np.percentile(numbers, 75)\n",
        "    iqr = q3 - q1\n",
        "    lower_bound = q1 - 1.5 * iqr\n",
        "    upper_bound = q3 + 1.5 * iqr\n",
        "    outliers = [x for x in numbers if x < lower_bound or x > upper_bound]\n",
        "\n",
        "    if outliers:\n",
        "        return outliers\n",
        "    else:\n",
        "        return None\n",
        "\n",
        "numbers = [10,12,14,15,16,18,100]\n",
        "result = find_outliers(numbers)\n",
        "print(\"outliers:\",result)"
      ],
      "metadata": {
        "colab": {
          "base_uri": "https://localhost:8080/"
        },
        "id": "qOYKjdikvDMw",
        "outputId": "1528afda-0975-45e8-fb58-c08b48ec8273"
      },
      "execution_count": 94,
      "outputs": [
        {
          "output_type": "stream",
          "name": "stdout",
          "text": [
            "outliers: [100]\n"
          ]
        }
      ]
    },
    {
      "cell_type": "code",
      "source": [
        "#Q9\n",
        "def calculate_z_score(numbers):\n",
        "  mean = np.mean(numbers)\n",
        "  std_dev = np.std(numbers)\n",
        "  z_scores = [(x - mean) / std_dev for x in numbers]\n",
        "  return z_scores\n",
        "\n",
        "numbers = [1,2,3,4,5,6,7,8,9,10]\n",
        "z_scores = calculate_z_score(numbers)\n",
        "print(\"Z-scores:\",z_scores)"
      ],
      "metadata": {
        "colab": {
          "base_uri": "https://localhost:8080/"
        },
        "id": "a3PC9ofKxu9l",
        "outputId": "87673d14-ab70-4f03-eb98-cf97e07c47e3"
      },
      "execution_count": 99,
      "outputs": [
        {
          "output_type": "stream",
          "name": "stdout",
          "text": [
            "Z-scores: [np.float64(-1.5666989036012806), np.float64(-1.2185435916898848), np.float64(-0.8703882797784892), np.float64(-0.5222329678670935), np.float64(-0.17407765595569785), np.float64(0.17407765595569785), np.float64(0.5222329678670935), np.float64(0.8703882797784892), np.float64(1.2185435916898848), np.float64(1.5666989036012806)]\n"
          ]
        }
      ]
    },
    {
      "cell_type": "code",
      "source": [
        "#Q10\n",
        "def pearson_correlation(x,y):\n",
        "    return np.corrcoef(x,y)[0,1]\n",
        "x=[1,2,3,4,5,6,7,8,9,10]\n",
        "y=[7,6,5,4,5,6,7,8,9,10]\n",
        "print(pearson_correlation(x,y))"
      ],
      "metadata": {
        "colab": {
          "base_uri": "https://localhost:8080/"
        },
        "id": "lygxvT4457Xp",
        "outputId": "46d22603-d906-4324-c4e8-9388db70d824"
      },
      "execution_count": 105,
      "outputs": [
        {
          "output_type": "stream",
          "name": "stdout",
          "text": [
            "0.7092729120837249\n"
          ]
        }
      ]
    },
    {
      "cell_type": "code",
      "source": [
        "#Q8\n",
        "def calculate_standard_deviation(numbers):\n",
        "  return np.std(numbers)\n",
        "numbers = [1,2,3,4,5,6,7,8,9,10]\n",
        "std_dev = calculate_standard_deviation(numbers)\n",
        "print(\"Standard Deviation:\",std_dev)"
      ],
      "metadata": {
        "colab": {
          "base_uri": "https://localhost:8080/"
        },
        "id": "n5WAnt559IBY",
        "outputId": "a189878b-73f8-49b3-eeba-d055c095e7eb"
      },
      "execution_count": 106,
      "outputs": [
        {
          "output_type": "stream",
          "name": "stdout",
          "text": [
            "Standard Deviation: 2.8722813232690143\n"
          ]
        }
      ]
    },
    {
      "cell_type": "code",
      "source": [],
      "metadata": {
        "id": "_IuNAy8p-KOg"
      },
      "execution_count": null,
      "outputs": []
    },
    {
      "cell_type": "markdown",
      "source": [
        "# New section"
      ],
      "metadata": {
        "id": "vVErOKB3_sOj"
      }
    }
  ]
}